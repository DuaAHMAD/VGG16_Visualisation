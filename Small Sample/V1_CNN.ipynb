{
 "cells": [
  {
   "cell_type": "markdown",
   "metadata": {},
   "source": [
    "# Building Network"
   ]
  },
  {
   "cell_type": "markdown",
   "metadata": {},
   "source": [
    "## Step 2: Building a Model\n",
    "### Instantiating a small covnet for controls vs patients "
   ]
  },
  {
   "cell_type": "code",
   "execution_count": 1,
   "metadata": {},
   "outputs": [
    {
     "name": "stderr",
     "output_type": "stream",
     "text": [
      "Using TensorFlow backend.\n"
     ]
    }
   ],
   "source": [
    "from keras import layers\n",
    "from keras import models\n",
    "model = models.Sequential()\n",
    "model.add(layers.Conv2D(32, (3, 3), activation='relu',\n",
    "input_shape=(90, 80, 3)))\n",
    "model.add(layers.MaxPooling2D((2, 2)))\n",
    "model.add(layers.Conv2D(64, (3, 3), activation='relu'))\n",
    "model.add(layers.MaxPooling2D((2, 2)))\n",
    "model.add(layers.Conv2D(128, (3, 3), activation='relu'))\n",
    "model.add(layers.MaxPooling2D((2, 2)))\n",
    "model.add(layers.Conv2D(128, (3, 3), activation='relu'))\n",
    "model.add(layers.MaxPooling2D((2, 2)))\n",
    "model.add(layers.Flatten())\n",
    "model.add(layers.Dense(512, activation='relu'))\n",
    "model.add(layers.Dense(1, activation='sigmoid'))\n",
    "    "
   ]
  },
  {
   "cell_type": "code",
   "execution_count": 2,
   "metadata": {},
   "outputs": [
    {
     "name": "stdout",
     "output_type": "stream",
     "text": [
      "_________________________________________________________________\n",
      "Layer (type)                 Output Shape              Param #   \n",
      "=================================================================\n",
      "conv2d_1 (Conv2D)            (None, 88, 78, 32)        896       \n",
      "_________________________________________________________________\n",
      "max_pooling2d_1 (MaxPooling2 (None, 44, 39, 32)        0         \n",
      "_________________________________________________________________\n",
      "conv2d_2 (Conv2D)            (None, 42, 37, 64)        18496     \n",
      "_________________________________________________________________\n",
      "max_pooling2d_2 (MaxPooling2 (None, 21, 18, 64)        0         \n",
      "_________________________________________________________________\n",
      "conv2d_3 (Conv2D)            (None, 19, 16, 128)       73856     \n",
      "_________________________________________________________________\n",
      "max_pooling2d_3 (MaxPooling2 (None, 9, 8, 128)         0         \n",
      "_________________________________________________________________\n",
      "conv2d_4 (Conv2D)            (None, 7, 6, 128)         147584    \n",
      "_________________________________________________________________\n",
      "max_pooling2d_4 (MaxPooling2 (None, 3, 3, 128)         0         \n",
      "_________________________________________________________________\n",
      "flatten_1 (Flatten)          (None, 1152)              0         \n",
      "_________________________________________________________________\n",
      "dense_1 (Dense)              (None, 512)               590336    \n",
      "_________________________________________________________________\n",
      "dense_2 (Dense)              (None, 1)                 513       \n",
      "=================================================================\n",
      "Total params: 831,681\n",
      "Trainable params: 831,681\n",
      "Non-trainable params: 0\n",
      "_________________________________________________________________\n"
     ]
    }
   ],
   "source": [
    "model.summary()"
   ]
  },
  {
   "cell_type": "markdown",
   "metadata": {},
   "source": [
    "### Configuring model for training"
   ]
  },
  {
   "cell_type": "code",
   "execution_count": 3,
   "metadata": {},
   "outputs": [],
   "source": [
    "from keras import optimizers\n",
    "model.compile(loss='binary_crossentropy',\n",
    "optimizer=optimizers.RMSprop(lr=1e-4),\n",
    "metrics=['acc'])"
   ]
  },
  {
   "cell_type": "markdown",
   "metadata": {},
   "source": [
    "## Step 3: Data preprocessing "
   ]
  },
  {
   "cell_type": "markdown",
   "metadata": {},
   "source": [
    "### - Rescale the pixel values (between 0 and 255) to the [0, 1] interval (as you know, neural networks prefer to deal with small input values)"
   ]
  },
  {
   "cell_type": "code",
   "execution_count": 4,
   "metadata": {},
   "outputs": [
    {
     "name": "stdout",
     "output_type": "stream",
     "text": [
      "Found 2000 images belonging to 2 classes.\n",
      "Found 600 images belonging to 2 classes.\n",
      "data batch shape: (100, 90, 80, 3)\n",
      "labels batch shape: (100,)\n"
     ]
    }
   ],
   "source": [
    "from keras.preprocessing.image import ImageDataGenerator\n",
    "\n",
    "train_dir= '/Code/dua/602020_Split/small sample/Relocated_Data2/Train'\n",
    "validation_dir= '/Code/dua/602020_Split/small sample/Relocated_Data2/Validation'\n",
    "\n",
    "#Rescales all images by 1/255\n",
    "train_datagen = ImageDataGenerator(rescale=1./255)\n",
    "test_datagen = ImageDataGenerator(rescale=1./255)\n",
    "\n",
    "train_generator = train_datagen.flow_from_directory(\n",
    "         train_dir,                 #Target directory\n",
    "         target_size = (90, 80),  #Resizes all images to 150 × 150\n",
    "         batch_size = 100,\n",
    "         class_mode = 'binary')     #Because you use binary_crossentropy loss, you need binary labels.\n",
    "validation_generator = test_datagen.flow_from_directory(\n",
    "         validation_dir,          #Target directory\n",
    "         target_size =(90, 80),  #Resizes all images to 150 × 150\n",
    "         batch_size = 100,           #Because you use binary_crossentropy loss, you need binary labels.  \n",
    "         class_mode = 'binary')\n",
    "\n",
    "# Break loop at some point to stop from having batches run indefinitely\n",
    "for data_batch, labels_batch in train_generator:\n",
    "    print('data batch shape:', data_batch.shape)\n",
    "    print('labels batch shape:', labels_batch.shape)\n",
    "    break"
   ]
  },
  {
   "cell_type": "code",
   "execution_count": 5,
   "metadata": {},
   "outputs": [
    {
     "name": "stdout",
     "output_type": "stream",
     "text": [
      "Epoch 1/30\n",
      "1632/1632 [==============================] - 796s 488ms/step - loss: 0.0761 - acc: 0.9685 - val_loss: 6.3517 - val_acc: 0.5048\n",
      "Epoch 2/30\n",
      "1632/1632 [==============================] - 794s 487ms/step - loss: 5.8428e-04 - acc: 0.9998 - val_loss: 7.2889 - val_acc: 0.5047\n",
      "Epoch 3/30\n",
      "1632/1632 [==============================] - 794s 487ms/step - loss: 1.3594e-07 - acc: 1.0000 - val_loss: 7.5990 - val_acc: 0.5050\n",
      "Epoch 4/30\n",
      "1632/1632 [==============================] - 794s 487ms/step - loss: 1.0962e-07 - acc: 1.0000 - val_loss: 7.6085 - val_acc: 0.5051\n",
      "Epoch 5/30\n",
      "1632/1632 [==============================] - 797s 488ms/step - loss: 1.0961e-07 - acc: 1.0000 - val_loss: 7.6090 - val_acc: 0.5051\n",
      "Epoch 6/30\n",
      "1632/1632 [==============================] - 795s 487ms/step - loss: 1.0960e-07 - acc: 1.0000 - val_loss: 7.6153 - val_acc: 0.5047\n",
      "Epoch 7/30\n",
      "1632/1632 [==============================] - 798s 489ms/step - loss: 1.0961e-07 - acc: 1.0000 - val_loss: 7.6124 - val_acc: 0.5049\n",
      "Epoch 8/30\n",
      "1632/1632 [==============================] - 798s 489ms/step - loss: 1.0960e-07 - acc: 1.0000 - val_loss: 7.6083 - val_acc: 0.5051\n",
      "Epoch 9/30\n",
      "1632/1632 [==============================] - 796s 488ms/step - loss: 1.0961e-07 - acc: 1.0000 - val_loss: 7.6124 - val_acc: 0.5049\n",
      "Epoch 10/30\n",
      "1632/1632 [==============================] - 793s 486ms/step - loss: 1.0960e-07 - acc: 1.0000 - val_loss: 7.6136 - val_acc: 0.5048\n",
      "Epoch 11/30\n",
      "1632/1632 [==============================] - 798s 489ms/step - loss: 1.0960e-07 - acc: 1.0000 - val_loss: 7.6112 - val_acc: 0.5050\n",
      "Epoch 12/30\n",
      "1632/1632 [==============================] - 796s 488ms/step - loss: 1.0961e-07 - acc: 1.0000 - val_loss: 7.6092 - val_acc: 0.5051\n",
      "Epoch 13/30\n",
      "1632/1632 [==============================] - 795s 487ms/step - loss: 1.0960e-07 - acc: 1.0000 - val_loss: 7.6123 - val_acc: 0.5049\n",
      "Epoch 14/30\n",
      "1632/1632 [==============================] - 798s 489ms/step - loss: 1.0960e-07 - acc: 1.0000 - val_loss: 7.6090 - val_acc: 0.5051\n",
      "Epoch 15/30\n",
      "1632/1632 [==============================] - 797s 489ms/step - loss: 1.0961e-07 - acc: 1.0000 - val_loss: 7.6089 - val_acc: 0.5052\n",
      "Epoch 16/30\n",
      "1632/1632 [==============================] - 797s 488ms/step - loss: 1.0960e-07 - acc: 1.0000 - val_loss: 7.6180 - val_acc: 0.5046\n",
      "Epoch 17/30\n",
      "1632/1632 [==============================] - 798s 489ms/step - loss: 1.0961e-07 - acc: 1.0000 - val_loss: 7.6083 - val_acc: 0.5051\n",
      "Epoch 18/30\n",
      "1632/1632 [==============================] - 798s 489ms/step - loss: 1.0960e-07 - acc: 1.0000 - val_loss: 7.6090 - val_acc: 0.5051\n",
      "Epoch 19/30\n",
      "1632/1632 [==============================] - 795s 487ms/step - loss: 1.0960e-07 - acc: 1.0000 - val_loss: 7.6073 - val_acc: 0.5052\n",
      "Epoch 20/30\n",
      "1632/1632 [==============================] - 797s 489ms/step - loss: 1.0961e-07 - acc: 1.0000 - val_loss: 7.6107 - val_acc: 0.5050\n",
      "Epoch 21/30\n",
      "1632/1632 [==============================] - 796s 488ms/step - loss: 1.0961e-07 - acc: 1.0000 - val_loss: 7.6095 - val_acc: 0.5051\n",
      "Epoch 22/30\n",
      "1632/1632 [==============================] - 796s 487ms/step - loss: 1.0960e-07 - acc: 1.0000 - val_loss: 7.6064 - val_acc: 0.5053\n",
      "Epoch 23/30\n",
      "1632/1632 [==============================] - 795s 487ms/step - loss: 1.0960e-07 - acc: 1.0000 - val_loss: 7.6057 - val_acc: 0.5053\n",
      "Epoch 24/30\n",
      "1632/1632 [==============================] - 797s 488ms/step - loss: 1.0961e-07 - acc: 1.0000 - val_loss: 7.6136 - val_acc: 0.5048\n",
      "Epoch 25/30\n",
      "1632/1632 [==============================] - 797s 488ms/step - loss: 1.0960e-07 - acc: 1.0000 - val_loss: 7.6116 - val_acc: 0.5049\n",
      "Epoch 26/30\n",
      "1632/1632 [==============================] - 797s 489ms/step - loss: 1.0960e-07 - acc: 1.0000 - val_loss: 7.6094 - val_acc: 0.5051\n",
      "Epoch 27/30\n",
      "1632/1632 [==============================] - 797s 488ms/step - loss: 1.0961e-07 - acc: 1.0000 - val_loss: 7.6148 - val_acc: 0.5048\n",
      "Epoch 28/30\n",
      "1632/1632 [==============================] - 797s 488ms/step - loss: 1.0960e-07 - acc: 1.0000 - val_loss: 7.6095 - val_acc: 0.5051\n",
      "Epoch 29/30\n",
      "1632/1632 [==============================] - 795s 487ms/step - loss: 1.0961e-07 - acc: 1.0000 - val_loss: 7.6112 - val_acc: 0.5049\n",
      "Epoch 30/30\n",
      "1632/1632 [==============================] - 797s 489ms/step - loss: 1.0961e-07 - acc: 1.0000 - val_loss: 7.6134 - val_acc: 0.5048\n"
     ]
    }
   ],
   "source": [
    "history = model.fit_generator(\n",
    "train_generator,\n",
    "steps_per_epoch=1632,\n",
    "epochs=30,\n",
    "validation_data=validation_generator,\n",
    "validation_steps=340)"
   ]
  },
  {
   "cell_type": "code",
   "execution_count": 6,
   "metadata": {},
   "outputs": [],
   "source": [
    "model.save('Controls_and_Patients_small.h5')\n",
    "model.save_weights('Controls_and_Patients_small_Weights.h5')"
   ]
  },
  {
   "cell_type": "code",
   "execution_count": 1,
   "metadata": {},
   "outputs": [
    {
     "ename": "NameError",
     "evalue": "name 'history' is not defined",
     "output_type": "error",
     "traceback": [
      "\u001b[0;31m---------------------------------------------------------------------------\u001b[0m",
      "\u001b[0;31mNameError\u001b[0m                                 Traceback (most recent call last)",
      "\u001b[0;32m<ipython-input-1-2a1f94d895e5>\u001b[0m in \u001b[0;36m<module>\u001b[0;34m()\u001b[0m\n\u001b[1;32m      1\u001b[0m \u001b[0;32mimport\u001b[0m \u001b[0mmatplotlib\u001b[0m\u001b[0;34m.\u001b[0m\u001b[0mpyplot\u001b[0m \u001b[0;32mas\u001b[0m \u001b[0mplt\u001b[0m\u001b[0;34m\u001b[0m\u001b[0m\n\u001b[0;32m----> 2\u001b[0;31m \u001b[0macc\u001b[0m \u001b[0;34m=\u001b[0m \u001b[0mhistory\u001b[0m\u001b[0;34m.\u001b[0m\u001b[0mhistory\u001b[0m\u001b[0;34m[\u001b[0m\u001b[0;34m'acc'\u001b[0m\u001b[0;34m]\u001b[0m\u001b[0;34m\u001b[0m\u001b[0m\n\u001b[0m\u001b[1;32m      3\u001b[0m \u001b[0mval_acc\u001b[0m \u001b[0;34m=\u001b[0m \u001b[0mhistory\u001b[0m\u001b[0;34m.\u001b[0m\u001b[0mhistory\u001b[0m\u001b[0;34m[\u001b[0m\u001b[0;34m'val_acc'\u001b[0m\u001b[0;34m]\u001b[0m\u001b[0;34m\u001b[0m\u001b[0m\n\u001b[1;32m      4\u001b[0m \u001b[0mloss\u001b[0m \u001b[0;34m=\u001b[0m \u001b[0mhistory\u001b[0m\u001b[0;34m.\u001b[0m\u001b[0mhistory\u001b[0m\u001b[0;34m[\u001b[0m\u001b[0;34m'loss'\u001b[0m\u001b[0;34m]\u001b[0m\u001b[0;34m\u001b[0m\u001b[0m\n\u001b[1;32m      5\u001b[0m \u001b[0mval_loss\u001b[0m \u001b[0;34m=\u001b[0m \u001b[0mhistory\u001b[0m\u001b[0;34m.\u001b[0m\u001b[0mhistory\u001b[0m\u001b[0;34m[\u001b[0m\u001b[0;34m'val_loss'\u001b[0m\u001b[0;34m]\u001b[0m\u001b[0;34m\u001b[0m\u001b[0m\n",
      "\u001b[0;31mNameError\u001b[0m: name 'history' is not defined"
     ]
    }
   ],
   "source": [
    "import matplotlib.pyplot as plt\n",
    "acc = history.history['acc']\n",
    "val_acc = history.history['val_acc']\n",
    "loss = history.history['loss']\n",
    "val_loss = history.history['val_loss']\n",
    "epochs = range(1, len(acc) + 1)\n",
    "plt.plot(epochs, acc, 'bo', label='Training acc')\n",
    "plt.plot(epochs, val_acc, 'b', label='Validation acc')\n",
    "plt.title('Training and validation accuracy')\n",
    "plt.legend()\n",
    "plt.figure()\n",
    "plt.plot(epochs, loss, 'bo', label='Training loss')\n",
    "plt.plot(epochs, val_loss, 'b', label='Validation loss')\n",
    "plt.title('Training and validation loss')\n",
    "plt.legend()\n",
    "plt.show()"
   ]
  },
  {
   "cell_type": "code",
   "execution_count": null,
   "metadata": {},
   "outputs": [],
   "source": []
  },
  {
   "cell_type": "code",
   "execution_count": null,
   "metadata": {},
   "outputs": [],
   "source": []
  }
 ],
 "metadata": {
  "kernelspec": {
   "display_name": "Python 3",
   "language": "python",
   "name": "python3"
  },
  "language_info": {
   "codemirror_mode": {
    "name": "ipython",
    "version": 3
   },
   "file_extension": ".py",
   "mimetype": "text/x-python",
   "name": "python",
   "nbconvert_exporter": "python",
   "pygments_lexer": "ipython3",
   "version": "3.6.2"
  }
 },
 "nbformat": 4,
 "nbformat_minor": 2
}
