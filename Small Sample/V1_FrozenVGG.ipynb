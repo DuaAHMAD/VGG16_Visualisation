{
 "cells": [
  {
   "cell_type": "code",
   "execution_count": 1,
   "metadata": {},
   "outputs": [
    {
     "name": "stdout",
     "output_type": "stream",
     "text": [
      "[name: \"/cpu:0\"\n",
      "device_type: \"CPU\"\n",
      "memory_limit: 268435456\n",
      "locality {\n",
      "}\n",
      "incarnation: 18112514834841675944\n",
      ", name: \"/gpu:0\"\n",
      "device_type: \"GPU\"\n",
      "memory_limit: 11326380442\n",
      "locality {\n",
      "  bus_id: 1\n",
      "}\n",
      "incarnation: 10539206391599429748\n",
      "physical_device_desc: \"device: 0, name: Tesla K80, pci bus id: 0000:06:00.0\"\n",
      ", name: \"/gpu:1\"\n",
      "device_type: \"GPU\"\n",
      "memory_limit: 11324388148\n",
      "locality {\n",
      "  bus_id: 1\n",
      "}\n",
      "incarnation: 17990026548815363763\n",
      "physical_device_desc: \"device: 1, name: Tesla K80, pci bus id: 0000:07:00.0\"\n",
      "]\n"
     ]
    }
   ],
   "source": [
    "from tensorflow.python.client import device_lib\n",
    "\n",
    "print(device_lib.list_local_devices())"
   ]
  },
  {
   "cell_type": "code",
   "execution_count": 2,
   "metadata": {},
   "outputs": [
    {
     "name": "stderr",
     "output_type": "stream",
     "text": [
      "Using TensorFlow backend.\n"
     ]
    },
    {
     "data": {
      "text/plain": [
       "['/job:localhost/replica:0/task:0/device:GPU:0',\n",
       " '/job:localhost/replica:0/task:0/device:GPU:1']"
      ]
     },
     "execution_count": 2,
     "metadata": {},
     "output_type": "execute_result"
    }
   ],
   "source": [
    "from keras import backend as K\n",
    "K.tensorflow_backend._get_available_gpus()"
   ]
  },
  {
   "cell_type": "markdown",
   "metadata": {},
   "source": [
    "# Building Network"
   ]
  },
  {
   "cell_type": "markdown",
   "metadata": {},
   "source": [
    "## Step 2: Building a Model\n",
    "### Adding a densely connected classifier on top of the convolutional base"
   ]
  },
  {
   "cell_type": "code",
   "execution_count": 2,
   "metadata": {},
   "outputs": [
    {
     "name": "stdout",
     "output_type": "stream",
     "text": [
      "_________________________________________________________________\n",
      "Layer (type)                 Output Shape              Param #   \n",
      "=================================================================\n",
      "input_2 (InputLayer)         (None, 90, 80, 3)         0         \n",
      "_________________________________________________________________\n",
      "block1_conv1 (Conv2D)        (None, 90, 80, 64)        1792      \n",
      "_________________________________________________________________\n",
      "block1_conv2 (Conv2D)        (None, 90, 80, 64)        36928     \n",
      "_________________________________________________________________\n",
      "block1_pool (MaxPooling2D)   (None, 45, 40, 64)        0         \n",
      "_________________________________________________________________\n",
      "block2_conv1 (Conv2D)        (None, 45, 40, 128)       73856     \n",
      "_________________________________________________________________\n",
      "block2_conv2 (Conv2D)        (None, 45, 40, 128)       147584    \n",
      "_________________________________________________________________\n",
      "block2_pool (MaxPooling2D)   (None, 22, 20, 128)       0         \n",
      "_________________________________________________________________\n",
      "block3_conv1 (Conv2D)        (None, 22, 20, 256)       295168    \n",
      "_________________________________________________________________\n",
      "block3_conv2 (Conv2D)        (None, 22, 20, 256)       590080    \n",
      "_________________________________________________________________\n",
      "block3_conv3 (Conv2D)        (None, 22, 20, 256)       590080    \n",
      "_________________________________________________________________\n",
      "block3_pool (MaxPooling2D)   (None, 11, 10, 256)       0         \n",
      "_________________________________________________________________\n",
      "block4_conv1 (Conv2D)        (None, 11, 10, 512)       1180160   \n",
      "_________________________________________________________________\n",
      "block4_conv2 (Conv2D)        (None, 11, 10, 512)       2359808   \n",
      "_________________________________________________________________\n",
      "block4_conv3 (Conv2D)        (None, 11, 10, 512)       2359808   \n",
      "_________________________________________________________________\n",
      "block4_pool (MaxPooling2D)   (None, 5, 5, 512)         0         \n",
      "_________________________________________________________________\n",
      "block5_conv1 (Conv2D)        (None, 5, 5, 512)         2359808   \n",
      "_________________________________________________________________\n",
      "block5_conv2 (Conv2D)        (None, 5, 5, 512)         2359808   \n",
      "_________________________________________________________________\n",
      "block5_conv3 (Conv2D)        (None, 5, 5, 512)         2359808   \n",
      "_________________________________________________________________\n",
      "block5_pool (MaxPooling2D)   (None, 2, 2, 512)         0         \n",
      "=================================================================\n",
      "Total params: 14,714,688\n",
      "Trainable params: 14,714,688\n",
      "Non-trainable params: 0\n",
      "_________________________________________________________________\n"
     ]
    }
   ],
   "source": [
    "from keras.applications import VGG16\n",
    "conv_base = VGG16(weights='imagenet',include_top=False,input_shape=(90, 80, 3))\n",
    "conv_base.summary()"
   ]
  },
  {
   "cell_type": "code",
   "execution_count": 4,
   "metadata": {},
   "outputs": [],
   "source": [
    "from keras import models\n",
    "from keras import layers\n",
    "model = models.Sequential()\n",
    "model.add(conv_base)\n",
    "model.add(layers.Flatten())\n",
    "model.add(layers.Dense(256, activation='relu'))\n",
    "model.add(layers.Dense(1, activation='sigmoid'))"
   ]
  },
  {
   "cell_type": "code",
   "execution_count": 5,
   "metadata": {},
   "outputs": [
    {
     "name": "stdout",
     "output_type": "stream",
     "text": [
      "_________________________________________________________________\n",
      "Layer (type)                 Output Shape              Param #   \n",
      "=================================================================\n",
      "vgg16 (Model)                (None, 2, 2, 512)         14714688  \n",
      "_________________________________________________________________\n",
      "flatten_1 (Flatten)          (None, 2048)              0         \n",
      "_________________________________________________________________\n",
      "dense_1 (Dense)              (None, 256)               524544    \n",
      "_________________________________________________________________\n",
      "dense_2 (Dense)              (None, 1)                 257       \n",
      "=================================================================\n",
      "Total params: 15,239,489\n",
      "Trainable params: 15,239,489\n",
      "Non-trainable params: 0\n",
      "_________________________________________________________________\n"
     ]
    }
   ],
   "source": [
    "model.summary()"
   ]
  },
  {
   "cell_type": "code",
   "execution_count": 6,
   "metadata": {},
   "outputs": [
    {
     "name": "stdout",
     "output_type": "stream",
     "text": [
      "This is the number of trainable weights before freezing the conv base: 30\n",
      "This is the number of trainable weights after freezing the conv base: 4\n"
     ]
    }
   ],
   "source": [
    "print('This is the number of trainable weights before freezing the conv base:', len(model.trainable_weights))\n",
    "conv_base.trainable = False\n",
    "print('This is the number of trainable weights after freezing the conv base:', len(model.trainable_weights))"
   ]
  },
  {
   "cell_type": "markdown",
   "metadata": {},
   "source": [
    "### Training the model end to end with a frozen convolutional base"
   ]
  },
  {
   "cell_type": "code",
   "execution_count": 7,
   "metadata": {},
   "outputs": [
    {
     "name": "stdout",
     "output_type": "stream",
     "text": [
      "Found 2000 images belonging to 2 classes.\n",
      "Found 600 images belonging to 2 classes.\n",
      "Epoch 1/30\n",
      "100/100 [==============================] - 13s 130ms/step - loss: 0.6352 - acc: 0.6655 - val_loss: 0.8797 - val_acc: 0.3970\n",
      "Epoch 2/30\n",
      "100/100 [==============================] - 11s 110ms/step - loss: 0.5486 - acc: 0.7680 - val_loss: 1.0490 - val_acc: 0.3690\n",
      "Epoch 3/30\n",
      "100/100 [==============================] - 11s 110ms/step - loss: 0.4927 - acc: 0.7870 - val_loss: 1.2030 - val_acc: 0.3670\n",
      "Epoch 4/30\n",
      "100/100 [==============================] - 11s 110ms/step - loss: 0.4568 - acc: 0.8130 - val_loss: 1.3341 - val_acc: 0.3620\n",
      "Epoch 5/30\n",
      "100/100 [==============================] - 11s 111ms/step - loss: 0.4334 - acc: 0.8250 - val_loss: 1.4561 - val_acc: 0.3670\n",
      "Epoch 6/30\n",
      "100/100 [==============================] - 11s 110ms/step - loss: 0.4169 - acc: 0.8310 - val_loss: 1.5448 - val_acc: 0.3680\n",
      "Epoch 7/30\n",
      "100/100 [==============================] - 11s 111ms/step - loss: 0.4016 - acc: 0.8380 - val_loss: 1.6765 - val_acc: 0.3720\n",
      "Epoch 8/30\n",
      "100/100 [==============================] - 11s 110ms/step - loss: 0.3846 - acc: 0.8485 - val_loss: 1.6922 - val_acc: 0.3750\n",
      "Epoch 9/30\n",
      "100/100 [==============================] - 11s 110ms/step - loss: 0.3827 - acc: 0.8465 - val_loss: 1.7724 - val_acc: 0.3720\n",
      "Epoch 10/30\n",
      "100/100 [==============================] - 11s 110ms/step - loss: 0.3698 - acc: 0.8445 - val_loss: 1.8206 - val_acc: 0.3790\n",
      "Epoch 11/30\n",
      "100/100 [==============================] - 11s 111ms/step - loss: 0.3629 - acc: 0.8560 - val_loss: 1.8507 - val_acc: 0.3870\n",
      "Epoch 12/30\n",
      "100/100 [==============================] - 11s 110ms/step - loss: 0.3633 - acc: 0.8510 - val_loss: 1.8406 - val_acc: 0.3760\n",
      "Epoch 13/30\n",
      "100/100 [==============================] - 11s 110ms/step - loss: 0.3506 - acc: 0.8655 - val_loss: 1.9063 - val_acc: 0.3760\n",
      "Epoch 14/30\n",
      "100/100 [==============================] - 11s 110ms/step - loss: 0.3419 - acc: 0.8625 - val_loss: 1.9659 - val_acc: 0.3780\n",
      "Epoch 15/30\n",
      "100/100 [==============================] - 11s 110ms/step - loss: 0.3341 - acc: 0.8710 - val_loss: 1.9974 - val_acc: 0.3770\n",
      "Epoch 16/30\n",
      "100/100 [==============================] - 11s 110ms/step - loss: 0.3369 - acc: 0.8580 - val_loss: 1.9755 - val_acc: 0.3690\n",
      "Epoch 17/30\n",
      "100/100 [==============================] - 11s 110ms/step - loss: 0.3292 - acc: 0.8705 - val_loss: 1.9669 - val_acc: 0.3730\n",
      "Epoch 18/30\n",
      "100/100 [==============================] - 11s 110ms/step - loss: 0.3188 - acc: 0.8715 - val_loss: 2.1379 - val_acc: 0.3690\n",
      "Epoch 19/30\n",
      "100/100 [==============================] - 11s 110ms/step - loss: 0.3210 - acc: 0.8640 - val_loss: 2.0460 - val_acc: 0.3640\n",
      "Epoch 20/30\n",
      "100/100 [==============================] - 11s 110ms/step - loss: 0.3172 - acc: 0.8785 - val_loss: 2.1379 - val_acc: 0.3730\n",
      "Epoch 21/30\n",
      "100/100 [==============================] - 11s 110ms/step - loss: 0.3085 - acc: 0.8740 - val_loss: 2.0887 - val_acc: 0.3820\n",
      "Epoch 22/30\n",
      "100/100 [==============================] - 11s 110ms/step - loss: 0.2993 - acc: 0.8860 - val_loss: 2.2208 - val_acc: 0.3800\n",
      "Epoch 23/30\n",
      "100/100 [==============================] - 11s 110ms/step - loss: 0.2993 - acc: 0.8780 - val_loss: 2.2051 - val_acc: 0.3750\n",
      "Epoch 24/30\n",
      "100/100 [==============================] - 11s 110ms/step - loss: 0.2988 - acc: 0.8845 - val_loss: 2.2462 - val_acc: 0.3750\n",
      "Epoch 25/30\n",
      "100/100 [==============================] - 11s 110ms/step - loss: 0.2868 - acc: 0.8950 - val_loss: 2.3004 - val_acc: 0.3720\n",
      "Epoch 26/30\n",
      "100/100 [==============================] - 11s 110ms/step - loss: 0.2894 - acc: 0.8910 - val_loss: 2.3210 - val_acc: 0.3730\n",
      "Epoch 27/30\n",
      "100/100 [==============================] - 11s 110ms/step - loss: 0.2837 - acc: 0.8885 - val_loss: 2.3656 - val_acc: 0.3630\n",
      "Epoch 28/30\n",
      "100/100 [==============================] - 11s 110ms/step - loss: 0.2882 - acc: 0.8885 - val_loss: 2.3794 - val_acc: 0.3710\n",
      "Epoch 29/30\n",
      "100/100 [==============================] - 11s 110ms/step - loss: 0.2783 - acc: 0.8960 - val_loss: 2.4316 - val_acc: 0.3750\n",
      "Epoch 30/30\n",
      "100/100 [==============================] - 11s 110ms/step - loss: 0.2758 - acc: 0.8975 - val_loss: 2.4652 - val_acc: 0.3670\n"
     ]
    }
   ],
   "source": [
    "from keras.preprocessing.image import ImageDataGenerator\n",
    "from keras import optimizers\n",
    "\n",
    "train_dir= '/Code/dua/602020_Split/small sample/Relocated_Data2/Train'\n",
    "validation_dir= '/Code/dua/602020_Split/small sample/Relocated_Data2/Validation'\n",
    "\n",
    "train_datagen = ImageDataGenerator(\n",
    "    rescale=1./255,\n",
    "    rotation_range=40,\n",
    "    width_shift_range=0.2,\n",
    "    height_shift_range=0.2,\n",
    "    shear_range=0.2,\n",
    "    zoom_range=0.2,\n",
    "    horizontal_flip=True,\n",
    "    fill_mode='nearest')\n",
    "test_datagen = ImageDataGenerator(rescale=1./255)\n",
    "train_generator = train_datagen.flow_from_directory(\n",
    "    train_dir,\n",
    "    target_size=(90, 80),\n",
    "    batch_size=20,\n",
    "    class_mode='binary')\n",
    "validation_generator = test_datagen.flow_from_directory(\n",
    "    validation_dir,\n",
    "    target_size=(90, 80),\n",
    "    batch_size=20,\n",
    "    class_mode='binary')\n",
    "model.compile(loss='binary_crossentropy',\n",
    "              optimizer=optimizers.RMSprop(lr=2e-5),\n",
    "              metrics=['acc'])\n",
    "history = model.fit_generator(\n",
    "    train_generator,\n",
    "    steps_per_epoch=100,\n",
    "    epochs=30,\n",
    "    validation_data=validation_generator,\n",
    "    validation_steps=50)"
   ]
  },
  {
   "cell_type": "code",
   "execution_count": 9,
   "metadata": {},
   "outputs": [
    {
     "data": {
      "image/png": "[encoded data removed]",
      "text/plain": [
       "<matplotlib.figure.Figure at 0x7f07c30caf60>"
      ]
     },
     "metadata": {},
     "output_type": "display_data"
    },
    {
     "data": {
      "image/png": "[encoded data removed]",
      "text/plain": [
       "<matplotlib.figure.Figure at 0x7f07c3041a20>"
      ]
     },
     "metadata": {},
     "output_type": "display_data"
    }
   ],
   "source": [
    "import matplotlib.pyplot as plt\n",
    "acc = history.history['acc']\n",
    "val_acc = history.history['val_acc']\n",
    "loss = history.history['loss']\n",
    "val_loss = history.history['val_loss']\n",
    "epochs = range(1, len(acc) + 1)\n",
    "plt.plot(epochs, acc, 'bo', label='Training acc')\n",
    "plt.plot(epochs, val_acc, 'b', label='Validation acc')\n",
    "plt.title('Training and validation accuracy')\n",
    "plt.legend()\n",
    "plt.figure()\n",
    "plt.plot(epochs, loss, 'bo', label='Training loss')\n",
    "plt.plot(epochs, val_loss, 'b', label='Validation loss')\n",
    "plt.title('Training and validation loss')\n",
    "plt.legend()\n",
    "plt.show()"
   ]
  },
  {
   "cell_type": "markdown",
   "metadata": {},
   "source": [
    "### Freezing all layers up to a specific one"
   ]
  },
  {
   "cell_type": "code",
   "execution_count": 10,
   "metadata": {},
   "outputs": [],
   "source": [
    "conv_base.trainable = True\n",
    "set_trainable = False\n",
    "for layer in conv_base.layers:\n",
    "    if layer.name == 'block5_conv1':\n",
    "        set_trainable = True\n",
    "    if set_trainable:\n",
    "        layer.trainable = True\n",
    "    else:\n",
    "        layer.trainable = False"
   ]
  },
  {
   "cell_type": "code",
   "execution_count": 11,
   "metadata": {},
   "outputs": [
    {
     "name": "stdout",
     "output_type": "stream",
     "text": [
      "Epoch 1/100\n",
      "100/100 [==============================] - 13s 133ms/step - loss: 0.2348 - acc: 0.9055 - val_loss: 4.0624 - val_acc: 0.3760\n",
      "Epoch 2/100\n",
      "100/100 [==============================] - 13s 127ms/step - loss: 0.1940 - acc: 0.9265 - val_loss: 5.1203 - val_acc: 0.3530\n",
      "Epoch 3/100\n",
      "100/100 [==============================] - 13s 127ms/step - loss: 0.1407 - acc: 0.9510 - val_loss: 5.5149 - val_acc: 0.3230\n",
      "Epoch 4/100\n",
      "100/100 [==============================] - 13s 128ms/step - loss: 0.1318 - acc: 0.9500 - val_loss: 5.8368 - val_acc: 0.3420\n",
      "Epoch 5/100\n",
      "100/100 [==============================] - 13s 128ms/step - loss: 0.1070 - acc: 0.9595 - val_loss: 6.2172 - val_acc: 0.3750\n",
      "Epoch 6/100\n",
      "100/100 [==============================] - 13s 128ms/step - loss: 0.1011 - acc: 0.9690 - val_loss: 6.0962 - val_acc: 0.3440\n",
      "Epoch 7/100\n",
      "100/100 [==============================] - 13s 128ms/step - loss: 0.0816 - acc: 0.9680 - val_loss: 6.0881 - val_acc: 0.3360\n",
      "Epoch 8/100\n",
      "100/100 [==============================] - 13s 128ms/step - loss: 0.0819 - acc: 0.9700 - val_loss: 5.9559 - val_acc: 0.3620\n",
      "Epoch 9/100\n",
      "100/100 [==============================] - 13s 128ms/step - loss: 0.0597 - acc: 0.9770 - val_loss: 6.5456 - val_acc: 0.3430\n",
      "Epoch 10/100\n",
      "100/100 [==============================] - 13s 128ms/step - loss: 0.0609 - acc: 0.9725 - val_loss: 6.5991 - val_acc: 0.3430\n",
      "Epoch 11/100\n",
      "100/100 [==============================] - 13s 128ms/step - loss: 0.0590 - acc: 0.9745 - val_loss: 6.6749 - val_acc: 0.3610\n",
      "Epoch 12/100\n",
      "100/100 [==============================] - 13s 128ms/step - loss: 0.0512 - acc: 0.9785 - val_loss: 6.6319 - val_acc: 0.3800\n",
      "Epoch 13/100\n",
      "100/100 [==============================] - 13s 128ms/step - loss: 0.0512 - acc: 0.9810 - val_loss: 6.7455 - val_acc: 0.3740\n",
      "Epoch 14/100\n",
      "100/100 [==============================] - 13s 128ms/step - loss: 0.0463 - acc: 0.9835 - val_loss: 6.6289 - val_acc: 0.4060\n",
      "Epoch 15/100\n",
      "100/100 [==============================] - 13s 128ms/step - loss: 0.0554 - acc: 0.9785 - val_loss: 6.6457 - val_acc: 0.3860\n",
      "Epoch 16/100\n",
      "100/100 [==============================] - 13s 128ms/step - loss: 0.0437 - acc: 0.9850 - val_loss: 7.0825 - val_acc: 0.3630\n",
      "Epoch 17/100\n",
      "100/100 [==============================] - 13s 127ms/step - loss: 0.0428 - acc: 0.9855 - val_loss: 6.5846 - val_acc: 0.3910\n",
      "Epoch 18/100\n",
      "100/100 [==============================] - 13s 128ms/step - loss: 0.0307 - acc: 0.9900 - val_loss: 6.6134 - val_acc: 0.4130\n",
      "Epoch 19/100\n",
      "100/100 [==============================] - 13s 128ms/step - loss: 0.0256 - acc: 0.9925 - val_loss: 6.9169 - val_acc: 0.3930\n",
      "Epoch 20/100\n",
      "100/100 [==============================] - 13s 128ms/step - loss: 0.0381 - acc: 0.9895 - val_loss: 7.1236 - val_acc: 0.3440\n",
      "Epoch 21/100\n",
      "100/100 [==============================] - 13s 127ms/step - loss: 0.0301 - acc: 0.9895 - val_loss: 7.0283 - val_acc: 0.3380\n",
      "Epoch 22/100\n",
      "100/100 [==============================] - 13s 128ms/step - loss: 0.0282 - acc: 0.9885 - val_loss: 7.3153 - val_acc: 0.3340\n",
      "Epoch 23/100\n",
      "100/100 [==============================] - 13s 128ms/step - loss: 0.0328 - acc: 0.9885 - val_loss: 7.2193 - val_acc: 0.3410\n",
      "Epoch 24/100\n",
      "100/100 [==============================] - 13s 127ms/step - loss: 0.0220 - acc: 0.9935 - val_loss: 7.1788 - val_acc: 0.3610\n",
      "Epoch 25/100\n",
      "100/100 [==============================] - 13s 128ms/step - loss: 0.0203 - acc: 0.9915 - val_loss: 7.2023 - val_acc: 0.3700\n",
      "Epoch 26/100\n",
      "100/100 [==============================] - 13s 128ms/step - loss: 0.0185 - acc: 0.9935 - val_loss: 7.0360 - val_acc: 0.3580\n",
      "Epoch 27/100\n",
      "100/100 [==============================] - 13s 128ms/step - loss: 0.0216 - acc: 0.9910 - val_loss: 7.4182 - val_acc: 0.3520\n",
      "Epoch 28/100\n",
      "100/100 [==============================] - 13s 128ms/step - loss: 0.0237 - acc: 0.9885 - val_loss: 7.6313 - val_acc: 0.3250\n",
      "Epoch 29/100\n",
      "100/100 [==============================] - 13s 128ms/step - loss: 0.0232 - acc: 0.9930 - val_loss: 7.3903 - val_acc: 0.3460\n",
      "Epoch 30/100\n",
      "100/100 [==============================] - 13s 128ms/step - loss: 0.0184 - acc: 0.9930 - val_loss: 7.4871 - val_acc: 0.3890\n",
      "Epoch 31/100\n",
      "100/100 [==============================] - 13s 128ms/step - loss: 0.0209 - acc: 0.9935 - val_loss: 7.6559 - val_acc: 0.3420\n",
      "Epoch 32/100\n",
      "100/100 [==============================] - 13s 128ms/step - loss: 0.0185 - acc: 0.9915 - val_loss: 7.6347 - val_acc: 0.3480\n",
      "Epoch 33/100\n",
      "100/100 [==============================] - 13s 128ms/step - loss: 0.0149 - acc: 0.9935 - val_loss: 7.3820 - val_acc: 0.3680\n",
      "Epoch 34/100\n",
      "100/100 [==============================] - 13s 127ms/step - loss: 0.0112 - acc: 0.9950 - val_loss: 7.4381 - val_acc: 0.3640\n",
      "Epoch 35/100\n",
      "100/100 [==============================] - 13s 128ms/step - loss: 0.0168 - acc: 0.9945 - val_loss: 8.0127 - val_acc: 0.3420\n",
      "Epoch 36/100\n",
      "100/100 [==============================] - 13s 128ms/step - loss: 0.0193 - acc: 0.9930 - val_loss: 8.0005 - val_acc: 0.3660\n",
      "Epoch 37/100\n",
      "100/100 [==============================] - 13s 127ms/step - loss: 0.0208 - acc: 0.9930 - val_loss: 7.6604 - val_acc: 0.3720\n",
      "Epoch 38/100\n",
      "100/100 [==============================] - 13s 128ms/step - loss: 0.0214 - acc: 0.9920 - val_loss: 7.4870 - val_acc: 0.3480\n",
      "Epoch 39/100\n",
      "100/100 [==============================] - 13s 128ms/step - loss: 0.0167 - acc: 0.9950 - val_loss: 7.7464 - val_acc: 0.3410\n",
      "Epoch 40/100\n",
      "100/100 [==============================] - 13s 128ms/step - loss: 0.0209 - acc: 0.9940 - val_loss: 7.6661 - val_acc: 0.3930\n",
      "Epoch 41/100\n",
      "100/100 [==============================] - 13s 127ms/step - loss: 0.0116 - acc: 0.9955 - val_loss: 7.3337 - val_acc: 0.3690\n",
      "Epoch 42/100\n",
      "100/100 [==============================] - 13s 128ms/step - loss: 0.0125 - acc: 0.9930 - val_loss: 7.3163 - val_acc: 0.3660\n",
      "Epoch 43/100\n",
      "100/100 [==============================] - 13s 128ms/step - loss: 0.0159 - acc: 0.9950 - val_loss: 7.4758 - val_acc: 0.3670\n",
      "Epoch 44/100\n",
      "100/100 [==============================] - 13s 127ms/step - loss: 0.0139 - acc: 0.9945 - val_loss: 7.8610 - val_acc: 0.3510\n",
      "Epoch 45/100\n",
      "100/100 [==============================] - 13s 127ms/step - loss: 0.0130 - acc: 0.9940 - val_loss: 8.0571 - val_acc: 0.3330\n",
      "Epoch 46/100\n",
      "100/100 [==============================] - 13s 128ms/step - loss: 0.0161 - acc: 0.9940 - val_loss: 7.9839 - val_acc: 0.3610\n",
      "Epoch 47/100\n",
      "100/100 [==============================] - 13s 128ms/step - loss: 0.0147 - acc: 0.9955 - val_loss: 7.5235 - val_acc: 0.3670\n",
      "Epoch 48/100\n",
      "100/100 [==============================] - 13s 127ms/step - loss: 0.0101 - acc: 0.9965 - val_loss: 7.4616 - val_acc: 0.4000\n",
      "Epoch 49/100\n",
      "100/100 [==============================] - 13s 127ms/step - loss: 0.0236 - acc: 0.9955 - val_loss: 7.8546 - val_acc: 0.3500\n",
      "Epoch 50/100\n",
      "100/100 [==============================] - 13s 128ms/step - loss: 0.0061 - acc: 0.9975 - val_loss: 7.5463 - val_acc: 0.3780\n",
      "Epoch 51/100\n",
      "100/100 [==============================] - 13s 127ms/step - loss: 0.0180 - acc: 0.9930 - val_loss: 7.8013 - val_acc: 0.3740\n",
      "Epoch 52/100\n",
      "100/100 [==============================] - 13s 127ms/step - loss: 0.0162 - acc: 0.9950 - val_loss: 7.4675 - val_acc: 0.3620\n",
      "Epoch 53/100\n",
      "100/100 [==============================] - 13s 128ms/step - loss: 0.0073 - acc: 0.9965 - val_loss: 7.6675 - val_acc: 0.3720\n",
      "Epoch 54/100\n",
      "100/100 [==============================] - 13s 128ms/step - loss: 0.0112 - acc: 0.9965 - val_loss: 7.9767 - val_acc: 0.3450\n",
      "Epoch 55/100\n",
      "100/100 [==============================] - 13s 128ms/step - loss: 0.0101 - acc: 0.9970 - val_loss: 7.8016 - val_acc: 0.3930\n",
      "Epoch 56/100\n",
      "100/100 [==============================] - 13s 127ms/step - loss: 0.0102 - acc: 0.9960 - val_loss: 7.6485 - val_acc: 0.3810\n",
      "Epoch 57/100\n",
      "100/100 [==============================] - 13s 127ms/step - loss: 0.0162 - acc: 0.9945 - val_loss: 7.8436 - val_acc: 0.3600\n",
      "Epoch 58/100\n",
      "100/100 [==============================] - 13s 128ms/step - loss: 0.0070 - acc: 0.9980 - val_loss: 7.6983 - val_acc: 0.3950\n",
      "Epoch 59/100\n",
      "100/100 [==============================] - 13s 127ms/step - loss: 0.0133 - acc: 0.9955 - val_loss: 8.6211 - val_acc: 0.3320\n",
      "Epoch 60/100\n",
      "100/100 [==============================] - 13s 128ms/step - loss: 0.0208 - acc: 0.9950 - val_loss: 7.9540 - val_acc: 0.3530\n"
     ]
    },
    {
     "name": "stdout",
     "output_type": "stream",
     "text": [
      "Epoch 61/100\n",
      "100/100 [==============================] - 13s 127ms/step - loss: 0.0137 - acc: 0.9950 - val_loss: 8.1945 - val_acc: 0.3510\n",
      "Epoch 62/100\n",
      "100/100 [==============================] - 13s 127ms/step - loss: 0.0094 - acc: 0.9975 - val_loss: 7.5164 - val_acc: 0.3870\n",
      "Epoch 63/100\n",
      "100/100 [==============================] - 13s 127ms/step - loss: 0.0145 - acc: 0.9945 - val_loss: 8.1091 - val_acc: 0.3800\n",
      "Epoch 64/100\n",
      "100/100 [==============================] - 13s 128ms/step - loss: 0.0052 - acc: 0.9985 - val_loss: 7.9327 - val_acc: 0.3790\n",
      "Epoch 65/100\n",
      "100/100 [==============================] - 13s 127ms/step - loss: 0.0113 - acc: 0.9965 - val_loss: 8.0201 - val_acc: 0.3420\n",
      "Epoch 66/100\n",
      "100/100 [==============================] - 13s 127ms/step - loss: 0.0060 - acc: 0.9980 - val_loss: 8.2197 - val_acc: 0.3430\n",
      "Epoch 67/100\n",
      "100/100 [==============================] - 13s 128ms/step - loss: 0.0132 - acc: 0.9945 - val_loss: 8.1577 - val_acc: 0.3500\n",
      "Epoch 68/100\n",
      "100/100 [==============================] - 13s 127ms/step - loss: 0.0087 - acc: 0.9970 - val_loss: 8.1565 - val_acc: 0.3750\n",
      "Epoch 69/100\n",
      "100/100 [==============================] - 13s 127ms/step - loss: 0.0128 - acc: 0.9945 - val_loss: 8.4848 - val_acc: 0.3440\n",
      "Epoch 70/100\n",
      "100/100 [==============================] - 13s 128ms/step - loss: 0.0095 - acc: 0.9965 - val_loss: 8.2548 - val_acc: 0.3580\n",
      "Epoch 71/100\n",
      "100/100 [==============================] - 13s 127ms/step - loss: 0.0182 - acc: 0.9955 - val_loss: 8.6507 - val_acc: 0.3360\n",
      "Epoch 72/100\n",
      "100/100 [==============================] - 13s 127ms/step - loss: 0.0185 - acc: 0.9955 - val_loss: 8.4242 - val_acc: 0.2900\n",
      "Epoch 73/100\n",
      "100/100 [==============================] - 13s 127ms/step - loss: 0.0140 - acc: 0.9950 - val_loss: 8.4452 - val_acc: 0.3270\n",
      "Epoch 74/100\n",
      "100/100 [==============================] - 13s 127ms/step - loss: 0.0115 - acc: 0.9960 - val_loss: 8.4898 - val_acc: 0.3340\n",
      "Epoch 75/100\n",
      "100/100 [==============================] - 13s 127ms/step - loss: 0.0116 - acc: 0.9960 - val_loss: 8.4781 - val_acc: 0.3390\n",
      "Epoch 76/100\n",
      "100/100 [==============================] - 13s 127ms/step - loss: 0.0100 - acc: 0.9960 - val_loss: 7.8695 - val_acc: 0.3380\n",
      "Epoch 77/100\n",
      "100/100 [==============================] - 13s 128ms/step - loss: 0.0027 - acc: 0.9990 - val_loss: 8.7434 - val_acc: 0.3620\n",
      "Epoch 78/100\n",
      "100/100 [==============================] - 13s 127ms/step - loss: 0.0044 - acc: 0.9990 - val_loss: 8.2722 - val_acc: 0.3570\n",
      "Epoch 79/100\n",
      "100/100 [==============================] - 13s 127ms/step - loss: 0.0189 - acc: 0.9960 - val_loss: 8.2860 - val_acc: 0.3230\n",
      "Epoch 80/100\n",
      "100/100 [==============================] - 13s 127ms/step - loss: 0.0133 - acc: 0.9955 - val_loss: 8.0335 - val_acc: 0.3550\n",
      "Epoch 81/100\n",
      "100/100 [==============================] - 13s 127ms/step - loss: 0.0118 - acc: 0.9955 - val_loss: 8.5115 - val_acc: 0.3520\n",
      "Epoch 82/100\n",
      "100/100 [==============================] - 13s 127ms/step - loss: 0.0089 - acc: 0.9960 - val_loss: 8.3529 - val_acc: 0.3580\n",
      "Epoch 83/100\n",
      "100/100 [==============================] - 13s 127ms/step - loss: 0.0072 - acc: 0.9975 - val_loss: 8.7187 - val_acc: 0.3380\n",
      "Epoch 84/100\n",
      "100/100 [==============================] - 13s 128ms/step - loss: 0.0048 - acc: 0.9975 - val_loss: 8.4247 - val_acc: 0.3530\n",
      "Epoch 85/100\n",
      "100/100 [==============================] - 13s 128ms/step - loss: 0.0024 - acc: 0.9995 - val_loss: 8.3086 - val_acc: 0.3660\n",
      "Epoch 86/100\n",
      "100/100 [==============================] - 13s 127ms/step - loss: 0.0075 - acc: 0.9980 - val_loss: 7.8127 - val_acc: 0.3920\n",
      "Epoch 87/100\n",
      "100/100 [==============================] - 13s 127ms/step - loss: 0.0076 - acc: 0.9965 - val_loss: 8.4993 - val_acc: 0.3490\n",
      "Epoch 88/100\n",
      "100/100 [==============================] - 13s 127ms/step - loss: 0.0115 - acc: 0.9965 - val_loss: 7.9966 - val_acc: 0.3720\n",
      "Epoch 89/100\n",
      "100/100 [==============================] - 13s 127ms/step - loss: 0.0025 - acc: 0.9995 - val_loss: 8.8608 - val_acc: 0.3370\n",
      "Epoch 90/100\n",
      "100/100 [==============================] - 13s 127ms/step - loss: 0.0096 - acc: 0.9970 - val_loss: 7.8785 - val_acc: 0.3530\n",
      "Epoch 91/100\n",
      "100/100 [==============================] - 13s 127ms/step - loss: 0.0057 - acc: 0.9975 - val_loss: 7.8505 - val_acc: 0.4230\n",
      "Epoch 92/100\n",
      "100/100 [==============================] - 13s 127ms/step - loss: 0.0059 - acc: 0.9975 - val_loss: 8.4703 - val_acc: 0.3450\n",
      "Epoch 93/100\n",
      "100/100 [==============================] - 13s 127ms/step - loss: 0.0050 - acc: 0.9975 - val_loss: 8.7280 - val_acc: 0.3380\n",
      "Epoch 94/100\n",
      "100/100 [==============================] - 13s 127ms/step - loss: 0.0039 - acc: 0.9985 - val_loss: 8.5289 - val_acc: 0.3320\n",
      "Epoch 95/100\n",
      "100/100 [==============================] - 13s 127ms/step - loss: 0.0044 - acc: 0.9990 - val_loss: 8.9010 - val_acc: 0.3380\n",
      "Epoch 96/100\n",
      "100/100 [==============================] - 13s 127ms/step - loss: 0.0027 - acc: 0.9990 - val_loss: 8.3018 - val_acc: 0.3800\n",
      "Epoch 97/100\n",
      "100/100 [==============================] - 13s 127ms/step - loss: 0.0116 - acc: 0.9955 - val_loss: 8.6308 - val_acc: 0.3320\n",
      "Epoch 98/100\n",
      "100/100 [==============================] - 13s 127ms/step - loss: 0.0059 - acc: 0.9980 - val_loss: 8.7382 - val_acc: 0.3500\n",
      "Epoch 99/100\n",
      "100/100 [==============================] - 13s 127ms/step - loss: 0.0037 - acc: 0.9980 - val_loss: 7.4777 - val_acc: 0.4030\n",
      "Epoch 100/100\n",
      "100/100 [==============================] - 13s 127ms/step - loss: 0.0028 - acc: 0.9990 - val_loss: 8.5660 - val_acc: 0.3570\n"
     ]
    }
   ],
   "source": [
    "model.compile(loss='binary_crossentropy',\n",
    "              optimizer=optimizers.RMSprop(lr=1e-5),\n",
    "              metrics=['acc'])\n",
    "history = model.fit_generator(\n",
    "    train_generator,\n",
    "    steps_per_epoch=100,\n",
    "    epochs=100,\n",
    "    validation_data=validation_generator,\n",
    "    validation_steps=50)"
   ]
  },
  {
   "cell_type": "code",
   "execution_count": 13,
   "metadata": {},
   "outputs": [
    {
     "data": {
      "image/png": "[encoded data removed]",
      "text/plain": [
       "<matplotlib.figure.Figure at 0x7f07c2782ba8>"
      ]
     },
     "metadata": {},
     "output_type": "display_data"
    },
    {
     "data": {
      "image/png": "[encoded data removed]",
      "text/plain": [
       "<matplotlib.figure.Figure at 0x7f07c235c1d0>"
      ]
     },
     "metadata": {},
     "output_type": "display_data"
    }
   ],
   "source": [
    "import matplotlib.pyplot as plt\n",
    "acc = history.history['acc']\n",
    "val_acc = history.history['val_acc']\n",
    "loss = history.history['loss']\n",
    "val_loss = history.history['val_loss']\n",
    "epochs = range(1, len(acc) + 1)\n",
    "plt.plot(epochs, acc, 'bo', label='Training acc')\n",
    "plt.plot(epochs, val_acc, 'b', label='Validation acc')\n",
    "plt.title('Training and validation accuracy')\n",
    "plt.legend()\n",
    "plt.figure()\n",
    "plt.plot(epochs, loss, 'bo', label='Training loss')\n",
    "plt.plot(epochs, val_loss, 'b', label='Validation loss')\n",
    "plt.title('Training and validation loss')\n",
    "plt.legend()\n",
    "plt.show()"
   ]
  },
  {
   "cell_type": "code",
   "execution_count": 14,
   "metadata": {},
   "outputs": [],
   "source": [
    "model.save('V1_FrozenVGG_Small.h5')\n",
    "model.save_weights('V1_FrozenVGG_Small_Weights.h5')"
   ]
  },
  {
   "cell_type": "code",
   "execution_count": 18,
   "metadata": {},
   "outputs": [
    {
     "name": "stdout",
     "output_type": "stream",
     "text": [
      "Found 600 images belonging to 2 classes.\n",
      "test acc: 0.521000007391\n"
     ]
    }
   ],
   "source": [
    "test_dir = '/Code/dua/602020_Split/small sample/Relocated_Data2/Test'\n",
    "test_generator = test_datagen.flow_from_directory(\n",
    "    test_dir,\n",
    "    target_size=(90, 80),\n",
    "    batch_size=20,\n",
    "    class_mode='binary')\n",
    "\n",
    "test_loss, test_acc = model.evaluate_generator(test_generator, steps=50)\n",
    "print('test acc:', test_acc)"
   ]
  },
  {
   "cell_type": "code",
   "execution_count": null,
   "metadata": {},
   "outputs": [],
   "source": []
  }
 ],
 "metadata": {
  "kernelspec": {
   "display_name": "Python 3",
   "language": "python",
   "name": "python3"
  },
  "language_info": {
   "codemirror_mode": {
    "name": "ipython",
    "version": 3
   },
   "file_extension": ".py",
   "mimetype": "text/x-python",
   "name": "python",
   "nbconvert_exporter": "python",
   "pygments_lexer": "ipython3",
   "version": "3.6.2"
  }
 },
 "nbformat": 4,
 "nbformat_minor": 2
}
